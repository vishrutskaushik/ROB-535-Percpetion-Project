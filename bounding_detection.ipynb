{
  "nbformat": 4,
  "nbformat_minor": 0,
  "metadata": {
    "colab": {
      "name": "image_detection.ipynb",
      "provenance": []
    },
    "kernelspec": {
      "name": "python3",
      "display_name": "Python 3"
    },
    "language_info": {
      "name": "python"
    },
    "accelerator": "GPU"
  },
  "cells": [
    {
      "cell_type": "code",
      "execution_count": null,
      "metadata": {
        "id": "9_0VUK20PyNY"
      },
      "outputs": [],
      "source": [
        "# import the necessary packages\n",
        "from tensorflow.keras.applications import VGG16\n",
        "from tensorflow.keras.layers import Flatten\n",
        "from tensorflow.keras.layers import Dense\n",
        "from tensorflow.keras.layers import Input\n",
        "from tensorflow.keras.models import Model\n",
        "from tensorflow.keras.optimizers import Adam\n",
        "from tensorflow.keras.preprocessing.image import img_to_array\n",
        "from tensorflow.keras.preprocessing.image import load_img\n",
        "from sklearn.model_selection import train_test_split\n",
        "from glob import glob\n",
        "import matplotlib.pyplot as plt\n",
        "import numpy as np\n",
        "import cv2\n",
        "import os\n",
        "import pandas as pd\n",
        "import csv\n"
      ]
    },
    {
      "cell_type": "code",
      "source": [
        "from google.colab import drive\n",
        "drive.mount('/content/gdrive')"
      ],
      "metadata": {
        "colab": {
          "base_uri": "https://localhost:8080/"
        },
        "id": "gZQxL8y4SucS",
        "outputId": "0f907f32-ecd3-4597-fc73-a6647130423c"
      },
      "execution_count": null,
      "outputs": [
        {
          "output_type": "stream",
          "name": "stdout",
          "text": [
            "Mounted at /content/gdrive\n"
          ]
        }
      ]
    },
    {
      "cell_type": "code",
      "source": [
        "data_folder = \"/content/gdrive/MyDrive/ROB535-Perception-Project-1/\"\n",
        "train_rows = open(\"{}/task-1-training-dataset-old/train_labels.csv\".format(data_folder)).read().strip().split(\"\\n\")\n",
        "train_rows = train_rows[1:]"
      ],
      "metadata": {
        "id": "fhpqrWRkP23O"
      },
      "execution_count": null,
      "outputs": []
    },
    {
      "cell_type": "code",
      "source": [
        "train_data = []\n",
        "train_targets = []\n",
        "train_filenames = []"
      ],
      "metadata": {
        "id": "n4WnD7N3XGuz"
      },
      "execution_count": null,
      "outputs": []
    },
    {
      "cell_type": "code",
      "source": [
        "for row in train_rows:\n",
        "\t# break the row into the filename and bounding box coordinates\n",
        "  row = row.split(\",\")\n",
        "  (filename, width, height, class_label, startX, startY, endX, endY) = row\n",
        "  startX = float(startX) / float(width)\n",
        "  startY = float(startY) / float(height)\n",
        "  endX = float(endX) / float(width)\n",
        "  endY = float(endY) / float(height)\n",
        "  image = load_img(\"{}/task-1-training-dataset-old/images/train/{}\".format(data_folder,filename), target_size=(224, 224))\n",
        "  image = img_to_array(image)\n",
        "  train_data.append(image)\n",
        "  train_targets.append((startX, startY, endX, endY))\n",
        "  train_filenames.append(filename)"
      ],
      "metadata": {
        "id": "gdKc45XTS5il"
      },
      "execution_count": null,
      "outputs": []
    },
    {
      "cell_type": "code",
      "source": [
        "valid_rows = open(\"{}/task-1-training-dataset-old/test_labels.csv\".format(data_folder)).read().strip().split(\"\\n\")\n",
        "valid_rows = valid_rows[1:]"
      ],
      "metadata": {
        "id": "75xxDdPn2eY6"
      },
      "execution_count": null,
      "outputs": []
    },
    {
      "cell_type": "code",
      "source": [
        "valid_data = []\n",
        "valid_targets = []\n",
        "valid_filenames = []"
      ],
      "metadata": {
        "id": "S41OoHFOUQH6"
      },
      "execution_count": null,
      "outputs": []
    },
    {
      "cell_type": "code",
      "source": [
        "for row in valid_rows:\n",
        "\t# break the row into the filename and bounding box coordinates\n",
        "  row = row.split(\",\")\n",
        "  (filename, width, height, class_label, startX, startY, endX, endY) = row\n",
        "  startX = float(startX) / float(width)\n",
        "  startY = float(startY) / float(height)\n",
        "  endX = float(endX) / float(width)\n",
        "  endY = float(endY) / float(height)\n",
        "  image = load_img(\"{}/task-1-training-dataset-old/images/test/{}\".format(data_folder,filename), target_size=(224, 224))\n",
        "  image = img_to_array(image)\n",
        "  valid_data.append(image)\n",
        "  valid_targets.append((startX, startY, endX, endY))\n",
        "  valid_filenames.append(filename)"
      ],
      "metadata": {
        "id": "9vDoemVi2Nqn"
      },
      "execution_count": null,
      "outputs": []
    },
    {
      "cell_type": "code",
      "source": [
        "train_data = np.array(train_data, dtype=\"float32\") / 255.0\n",
        "train_targets = np.array(train_targets, dtype=\"float32\")\n",
        "\n",
        "valid_data = np.array(valid_data, dtype=\"float32\") / 255.0\n",
        "valid_targets = np.array(valid_targets, dtype=\"float32\")"
      ],
      "metadata": {
        "id": "2Y8fqWKb4BQX"
      },
      "execution_count": null,
      "outputs": []
    },
    {
      "cell_type": "code",
      "source": [
        "# load the VGG16 network, ensuring the head FC layers are left off\n",
        "vgg = VGG16(weights=\"imagenet\", include_top=False,\n",
        "\tinput_tensor=Input(shape=(224, 224, 3)))\n",
        "# freeze all VGG layers so they will *not* be updated during the\n",
        "# training process\n",
        "vgg.trainable = False\n",
        "# flatten the max-pooling output of VGG\n",
        "flatten = vgg.output\n",
        "flatten = Flatten()(flatten)\n",
        "# construct a fully-connected layer header to output the predicted\n",
        "# bounding box coordinates\n",
        "bboxHead = Dense(128, activation=\"relu\")(flatten)\n",
        "bboxHead = Dense(64, activation=\"relu\")(bboxHead)\n",
        "bboxHead = Dense(32, activation=\"relu\")(bboxHead)\n",
        "bboxHead = Dense(4, activation=\"sigmoid\")(bboxHead)\n",
        "# construct the model we will fine-tune for bounding box regression\n",
        "model = Model(inputs=vgg.input, outputs=bboxHead)"
      ],
      "metadata": {
        "colab": {
          "base_uri": "https://localhost:8080/"
        },
        "id": "9bpsda0035cK",
        "outputId": "a5b61e9d-e277-4a98-f857-60aecad68205"
      },
      "execution_count": null,
      "outputs": [
        {
          "output_type": "stream",
          "name": "stdout",
          "text": [
            "Downloading data from https://storage.googleapis.com/tensorflow/keras-applications/vgg16/vgg16_weights_tf_dim_ordering_tf_kernels_notop.h5\n",
            "58892288/58889256 [==============================] - 1s 0us/step\n",
            "58900480/58889256 [==============================] - 1s 0us/step\n"
          ]
        }
      ]
    },
    {
      "cell_type": "code",
      "source": [
        "opt = Adam(lr=1e-4)\n",
        "model.compile(loss=\"mse\", optimizer=opt)\n",
        "print(model.summary())\n",
        "# train the network for bounding box regression\n",
        "print(\"[INFO] training bounding box regressor...\")\n",
        "H = model.fit(\n",
        "\ttrain_data, train_targets,\n",
        "\tvalidation_data=(valid_data, valid_targets),\n",
        "\tbatch_size=32,\n",
        "\tepochs=5,\n",
        "\tverbose=1)"
      ],
      "metadata": {
        "colab": {
          "base_uri": "https://localhost:8080/"
        },
        "id": "9nNIhUGN4eIq",
        "outputId": "41e51963-7a2c-40fb-812d-ae525c350ed5"
      },
      "execution_count": null,
      "outputs": [
        {
          "output_type": "stream",
          "name": "stderr",
          "text": [
            "/usr/local/lib/python3.7/dist-packages/keras/optimizer_v2/adam.py:105: UserWarning: The `lr` argument is deprecated, use `learning_rate` instead.\n",
            "  super(Adam, self).__init__(name, **kwargs)\n"
          ]
        },
        {
          "output_type": "stream",
          "name": "stdout",
          "text": [
            "Model: \"model\"\n",
            "_________________________________________________________________\n",
            " Layer (type)                Output Shape              Param #   \n",
            "=================================================================\n",
            " input_1 (InputLayer)        [(None, 224, 224, 3)]     0         \n",
            "                                                                 \n",
            " block1_conv1 (Conv2D)       (None, 224, 224, 64)      1792      \n",
            "                                                                 \n",
            " block1_conv2 (Conv2D)       (None, 224, 224, 64)      36928     \n",
            "                                                                 \n",
            " block1_pool (MaxPooling2D)  (None, 112, 112, 64)      0         \n",
            "                                                                 \n",
            " block2_conv1 (Conv2D)       (None, 112, 112, 128)     73856     \n",
            "                                                                 \n",
            " block2_conv2 (Conv2D)       (None, 112, 112, 128)     147584    \n",
            "                                                                 \n",
            " block2_pool (MaxPooling2D)  (None, 56, 56, 128)       0         \n",
            "                                                                 \n",
            " block3_conv1 (Conv2D)       (None, 56, 56, 256)       295168    \n",
            "                                                                 \n",
            " block3_conv2 (Conv2D)       (None, 56, 56, 256)       590080    \n",
            "                                                                 \n",
            " block3_conv3 (Conv2D)       (None, 56, 56, 256)       590080    \n",
            "                                                                 \n",
            " block3_pool (MaxPooling2D)  (None, 28, 28, 256)       0         \n",
            "                                                                 \n",
            " block4_conv1 (Conv2D)       (None, 28, 28, 512)       1180160   \n",
            "                                                                 \n",
            " block4_conv2 (Conv2D)       (None, 28, 28, 512)       2359808   \n",
            "                                                                 \n",
            " block4_conv3 (Conv2D)       (None, 28, 28, 512)       2359808   \n",
            "                                                                 \n",
            " block4_pool (MaxPooling2D)  (None, 14, 14, 512)       0         \n",
            "                                                                 \n",
            " block5_conv1 (Conv2D)       (None, 14, 14, 512)       2359808   \n",
            "                                                                 \n",
            " block5_conv2 (Conv2D)       (None, 14, 14, 512)       2359808   \n",
            "                                                                 \n",
            " block5_conv3 (Conv2D)       (None, 14, 14, 512)       2359808   \n",
            "                                                                 \n",
            " block5_pool (MaxPooling2D)  (None, 7, 7, 512)         0         \n",
            "                                                                 \n",
            " flatten (Flatten)           (None, 25088)             0         \n",
            "                                                                 \n",
            " dense (Dense)               (None, 128)               3211392   \n",
            "                                                                 \n",
            " dense_1 (Dense)             (None, 64)                8256      \n",
            "                                                                 \n",
            " dense_2 (Dense)             (None, 32)                2080      \n",
            "                                                                 \n",
            " dense_3 (Dense)             (None, 4)                 132       \n",
            "                                                                 \n",
            "=================================================================\n",
            "Total params: 17,936,548\n",
            "Trainable params: 3,221,860\n",
            "Non-trainable params: 14,714,688\n",
            "_________________________________________________________________\n",
            "None\n",
            "[INFO] training bounding box regressor...\n",
            "Epoch 1/5\n",
            "213/213 [==============================] - 98s 364ms/step - loss: 0.0209 - val_loss: 0.0156\n",
            "Epoch 2/5\n",
            "213/213 [==============================] - 59s 275ms/step - loss: 0.0141 - val_loss: 0.0118\n",
            "Epoch 3/5\n",
            "213/213 [==============================] - 58s 274ms/step - loss: 0.0111 - val_loss: 0.0112\n",
            "Epoch 4/5\n",
            "213/213 [==============================] - 59s 275ms/step - loss: 0.0095 - val_loss: 0.0145\n",
            "Epoch 5/5\n",
            "213/213 [==============================] - 59s 276ms/step - loss: 0.0082 - val_loss: 0.0106\n"
          ]
        }
      ]
    },
    {
      "cell_type": "code",
      "source": [
        "print(\"[INFO] saving object detector model...\")\n",
        "model.save(\"{}/task-1-training-dataset-old/detector.h5\".format(data_folder), save_format=\"h5\")\n",
        "# plot the model training history\n",
        "N = 5\n",
        "plt.style.use(\"ggplot\")\n",
        "plt.figure()\n",
        "plt.plot(np.arange(0, N), H.history[\"loss\"], label=\"train_loss\")\n",
        "plt.plot(np.arange(0, N), H.history[\"val_loss\"], label=\"val_loss\")\n",
        "plt.title(\"Bounding Box Regression Loss on Training Set\")\n",
        "plt.xlabel(\"Epoch #\")\n",
        "plt.ylabel(\"Loss\")\n",
        "plt.legend(loc=\"lower left\")\n",
        "plt.savefig(\"{}/task-1-training-dataset-old/training_history.png\".format(data_folder), save_format=\"h5\")"
      ],
      "metadata": {
        "colab": {
          "base_uri": "https://localhost:8080/",
          "height": 316
        },
        "id": "-hvXviXt5H9G",
        "outputId": "da19173e-e647-4ba5-f1c9-9104a4556366"
      },
      "execution_count": null,
      "outputs": [
        {
          "output_type": "stream",
          "name": "stdout",
          "text": [
            "[INFO] saving object detector model...\n"
          ]
        },
        {
          "output_type": "display_data",
          "data": {
            "image/png": "[encoded data removed]",
            "text/plain": [
              "<Figure size 432x288 with 1 Axes>"
            ]
          },
          "metadata": {}
        }
      ]
    },
    {
      "cell_type": "code",
      "source": [
        "test_imgs_path = glob('{}test/*/*_image.jpg'.format(data_folder))\n",
        "test_imgs_path.sort()"
      ],
      "metadata": {
        "id": "1dI07G1k79UV"
      },
      "execution_count": null,
      "outputs": []
    },
    {
      "cell_type": "code",
      "source": [
        "w = 1914\n",
        "h = 1052\n",
        "rows = [['filename','width','height','xmin','ymin','xmax','ymax']]\n",
        "i = 0\n",
        "for path in test_imgs_path:\n",
        "  image = load_img(path, target_size=(224, 224))\n",
        "  image = img_to_array(image) / 255.0\n",
        "  image = np.expand_dims(image, axis=0)\n",
        "  preds = model.predict(image)[0]\n",
        "  (startX, startY, endX, endY) = preds\n",
        "  startX = int(startX * w)\n",
        "  startY = int(startY * h)\n",
        "  endX = int(endX * w)\n",
        "  endY = int(endY * h)\n",
        "  p = test_imgs_path[i].split('/')\n",
        "  path = '{}/{}'.format(p[-2],p[-1])\n",
        "  rows.append([path,w,h,startX,startY,endX,endY])\n",
        "  i += 1"
      ],
      "metadata": {
        "id": "i5g7lc1279G_"
      },
      "execution_count": null,
      "outputs": []
    },
    {
      "cell_type": "code",
      "source": [
        "with open ('test_labels.csv','w',newline = '') as csvfile:\n",
        "    my_writer = csv.writer(csvfile, delimiter = ',')\n",
        "    my_writer.writerows(rows)"
      ],
      "metadata": {
        "id": "W6PRriraEJ6X"
      },
      "execution_count": null,
      "outputs": []
    }
  ]
}